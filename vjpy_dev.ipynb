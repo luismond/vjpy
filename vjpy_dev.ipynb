{
 "cells": [
  {
   "cell_type": "code",
   "execution_count": 2,
   "id": "5238f6e6-9ba2-4d1b-996f-edb93f597ed9",
   "metadata": {},
   "outputs": [
    {
     "name": "stdout",
     "output_type": "stream",
     "text": [
      "\n",
      "\n",
      "♪♪ playing a pattern:\n",
      "k.h.\n",
      "\n",
      "\n",
      "♪♪ playing a bar of patterns:\n",
      "['k.h.', 'chhh', 'khhh', 'chhh']\n",
      "\n",
      "\n",
      "♪♪ looping a bar 4 times:\n",
      "num=1 patterns=['k.h.', 'chhh', 'khhh', 'chhh']\n",
      "num=1 patterns=['k.h.', 'chhh', 'khhh', 'chhh']\n",
      "num=1 patterns=['k.h.', 'chhh', 'khhh', 'chhh']\n",
      "num=1 patterns=['k.h.', 'chhh', 'khhh', 'chhh']\n",
      "\n",
      "\n",
      "♪♪ looping a group of bars:\n",
      "num=1 patterns=['k.h.', 'chhh', 'khhh', 'chhh']\n",
      "num=2 patterns=['k.h.', 'chhh', 'khhh', 'cchh']\n",
      "num=3 patterns=['k.h.', 'chhh', 'khhh', 'chhh']\n",
      "num=4 patterns=['k.h.', 'chhh', 'kkvv', 'cccc']\n",
      "num=5 patterns=['k.h.', 'chhh', 'khhh', 'chhh']\n",
      "num=6 patterns=['k.h.', 'chhh', 'khhh', 'cchh']\n",
      "num=7 patterns=['k.h.', 'chhh', 'khhh', 'chhh']\n",
      "num=8 patterns=['k.h.', 'chhh', 'kkkk', 'cccc']\n",
      "num=1 patterns=['k.h.', 'chhh', 'khhh', 'chhh']\n",
      "num=2 patterns=['k.h.', 'chhh', 'khhh', 'cchh']\n",
      "num=3 patterns=['k.h.', 'chhh', 'khhh', 'chhh']\n",
      "num=4 patterns=['k.h.', 'chhh', 'kkvv', 'cccc']\n",
      "num=5 patterns=['k.h.', 'chhh', 'khhh', 'chhh']\n",
      "num=6 patterns=['k.h.', 'chhh', 'khhh', 'cchh']\n",
      "num=7 patterns=['k.h.', 'chhh', 'khhh', 'chhh']\n",
      "num=8 patterns=['k.h.', 'chhh', 'kkkk', 'cccc']\n"
     ]
    }
   ],
   "source": [
    "from vjpy import MidiSequencer, Bar\n",
    "from vjpy.patterns import bar_, bars, pattern\n",
    "from pydantic import BaseModel\n",
    "from time import sleep\n",
    "\n",
    "seq = MidiSequencer(bpm=120)\n",
    "\n",
    "patt = pattern.pattern\n",
    "print(f\"♪♪ playing a pattern:\\n{patt}\")\n",
    "seq.play_pattern(pattern.pattern)\n",
    "sleep(2)\n",
    "\n",
    "print(f\"\\n\\n♪♪ playing a bar of patterns:\\n{bar_.patterns}\")\n",
    "for pattern in bar_.patterns:\n",
    "    seq.play_pattern(pattern)\n",
    "sleep(2)\n",
    "\n",
    "num_loops = 4\n",
    "print(f\"\\n\\n♪♪ looping a bar {num_loops} times:\")\n",
    "seq.loop_bar(bars[0], num_loops)\n",
    "sleep(2)\n",
    "\n",
    "print(\"\\n\\n♪♪ looping a group of bars:\")\n",
    "seq.loop_bars(bars, 2)\n",
    "sleep(2)\n"
   ]
  }
 ],
 "metadata": {
  "kernelspec": {
   "display_name": "Python 3 (ipykernel)",
   "language": "python",
   "name": "python3"
  },
  "language_info": {
   "codemirror_mode": {
    "name": "ipython",
    "version": 3
   },
   "file_extension": ".py",
   "mimetype": "text/x-python",
   "name": "python",
   "nbconvert_exporter": "python",
   "pygments_lexer": "ipython3",
   "version": "3.10.6"
  }
 },
 "nbformat": 4,
 "nbformat_minor": 5
}
