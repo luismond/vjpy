{
 "cells": [
  {
   "cell_type": "code",
   "execution_count": 2,
   "id": "07721294-2064-4f2e-9baf-213154e606b7",
   "metadata": {},
   "outputs": [
    {
     "name": "stdout",
     "output_type": "stream",
     "text": [
      "MidiSequencer on.\n",
      " \tDrumkit: name='TR808EmulationKit' drums={'kick': Drum(name='kick', note=36, short_hand='k'), 'snare': Drum(name='snare', note=38, short_hand='s'), 'clap': Drum(name='clap', note=40, short_hand='c'), 'tom': Drum(name='tom', note=43, short_hand='t'), 'hat': Drum(name='hat', note=45, short_hand='h'), 'conga': Drum(name='conga', note=49, short_hand='g'), 'clave': Drum(name='clave', note=50, short_hand='v'), 'cowbell': Drum(name='cowbell', note=51, short_hand='w')}\n",
      " \tBPM: 90\n",
      " \tRes: 1/4\n",
      " \tOutport: <open output 'Midi Through:Midi Through Port-0 14:0' (RtMidi/LINUX_ALSA)>\n",
      "\n"
     ]
    }
   ],
   "source": [
    "from vjpy.midi_sequencer import MidiSequencer\n",
    "from vjpy.drumkits import TR808EmulationKit\n",
    "seq = MidiSequencer(drumkit=TR808EmulationKit)"
   ]
  },
  {
   "cell_type": "code",
   "execution_count": 3,
   "id": "3500f124-5abf-4bce-9220-ed359062119d",
   "metadata": {},
   "outputs": [
    {
     "name": "stdout",
     "output_type": "stream",
     "text": [
      "khhh\t4\n",
      "khhh\t4\n",
      "khhh\t4\n",
      "khhh\t4\n"
     ]
    }
   ],
   "source": [
    "# Play a pattern\n",
    "PATT = \"khhh\"\n",
    "for _ in range(4):\n",
    "    print(f\"{PATT}\\t{len(PATT)}\")\n",
    "    seq.play_pattern(PATT)\n"
   ]
  },
  {
   "cell_type": "code",
   "execution_count": 4,
   "id": "03b7228d-2bcc-40f0-80ff-5ff207244cd8",
   "metadata": {},
   "outputs": [
    {
     "name": "stdout",
     "output_type": "stream",
     "text": [
      "Playing a bar:\n",
      "['k.h.', 'chhh', 'khhh', 'chhh']\n"
     ]
    }
   ],
   "source": [
    "# Play a bar of patterns\n",
    "from vjpy.data_classes import Bar\n",
    "\n",
    "bar_example = Bar(bar_num=1, patterns=['k.h.', 'chhh', 'khhh', 'chhh'])\n",
    "print(f\"Playing a bar:\\n{bar_example.patterns}\")\n",
    "seq.play_bar(bar_example)"
   ]
  },
  {
   "cell_type": "code",
   "execution_count": 5,
   "id": "ec5afc37-7ebb-4f07-81de-24eec340c6bf",
   "metadata": {},
   "outputs": [
    {
     "name": "stdout",
     "output_type": "stream",
     "text": [
      "Looping a bar 4 times:\n",
      "bar_num=1 patterns=['k.h.', 'chhh', 'khhh', 'chhh']\n",
      "bar_num=1 patterns=['k.h.', 'chhh', 'khhh', 'chhh']\n",
      "bar_num=1 patterns=['k.h.', 'chhh', 'khhh', 'chhh']\n",
      "bar_num=1 patterns=['k.h.', 'chhh', 'khhh', 'chhh']\n"
     ]
    }
   ],
   "source": [
    "# Loop a bar\n",
    "from vjpy.data_classes import Bar\n",
    "\n",
    "bar_example = Bar(bar_num=1, patterns=['k.h.', 'chhh', 'khhh', 'chhh']) # Bar example\n",
    "NUM_LOOPS = 4\n",
    "print(f\"Looping a bar {NUM_LOOPS} times:\")\n",
    "seq.loop_bar(bar_example, NUM_LOOPS)"
   ]
  },
  {
   "cell_type": "code",
   "execution_count": 6,
   "id": "064fc470-b228-4b90-9a9f-0600edb21c39",
   "metadata": {},
   "outputs": [
    {
     "name": "stdout",
     "output_type": "stream",
     "text": [
      "Looping a sequence of bars 2 times:\n",
      "bar_num=1 patterns=['k.h.', 'chhh', 'khhh', 'chhh']\n",
      "bar_num=2 patterns=['k.h.', 'chhh', 'khhh', 'cchh']\n",
      "bar_num=3 patterns=['k.h.', 'chhh', 'khhh', 'chhh']\n",
      "bar_num=4 patterns=['k.h.', 'chhh', 'kkvv', 'cccc']\n",
      "bar_num=1 patterns=['k.h.', 'chhh', 'khhh', 'chhh']\n",
      "bar_num=2 patterns=['k.h.', 'chhh', 'khhh', 'cchh']\n",
      "bar_num=3 patterns=['k.h.', 'chhh', 'khhh', 'chhh']\n",
      "bar_num=4 patterns=['k.h.', 'chhh', 'kkvv', 'cccc']\n"
     ]
    }
   ],
   "source": [
    "# Loop a sequence of bars\n",
    "NUM_LOOPS = 2\n",
    "print(f\"Looping a sequence of bars {NUM_LOOPS} times:\")\n",
    "\n",
    "# Bars example\n",
    "bars_example = [\n",
    "    Bar(bar_num=1, patterns=['k.h.', 'chhh', 'khhh', 'chhh']),\n",
    "    Bar(bar_num=2, patterns=['k.h.', 'chhh', 'khhh', 'cchh']),\n",
    "    Bar(bar_num=3, patterns=['k.h.', 'chhh', 'khhh', 'chhh']),\n",
    "    Bar(bar_num=4, patterns=['k.h.', 'chhh', 'kkvv', 'cccc'])\n",
    "]\n",
    "\n",
    "seq.loop_bars(bars_example, NUM_LOOPS)"
   ]
  },
  {
   "cell_type": "code",
   "execution_count": 7,
   "id": "8176044d-c0fa-449e-95b1-f97792fc130d",
   "metadata": {},
   "outputs": [
    {
     "name": "stdout",
     "output_type": "stream",
     "text": [
      "\n",
      "\n",
      "♪♪ Playing random pattern:\n",
      "['v', 'k', 'k', 't']\n",
      "\n",
      "\n",
      "♪♪ Playing random pattern:\n",
      "['v', 'k', 'k', 't']\n",
      "\n",
      "\n",
      "♪♪ Playing random pattern:\n",
      "['h', 'k', 'h', 'h']\n",
      "\n",
      "\n",
      "♪♪ Playing random pattern:\n",
      "['h', 'k', 'h', 'h']\n",
      "\n",
      "\n",
      "♪♪ Playing random pattern:\n",
      "['g', '.', 'v', 'c']\n",
      "\n",
      "\n",
      "♪♪ Playing random pattern:\n",
      "['g', '.', 'v', 'c']\n",
      "\n",
      "\n",
      "♪♪ Playing random pattern:\n",
      "['v', 'g', 'c', 's']\n",
      "\n",
      "\n",
      "♪♪ Playing random pattern:\n",
      "['v', 'g', 'c', 's']\n",
      "\n",
      "\n",
      "♪♪ Playing random pattern:\n",
      "['c', 'c', 't', '.']\n",
      "\n",
      "\n",
      "♪♪ Playing random pattern:\n",
      "['c', 'c', 't', '.']\n",
      "\n",
      "\n",
      "♪♪ Playing random pattern:\n",
      "['s', 's', 't', 'k']\n",
      "\n",
      "\n",
      "♪♪ Playing random pattern:\n",
      "['s', 's', 't', 'k']\n",
      "\n",
      "\n",
      "♪♪ Playing random pattern:\n",
      "['c', 't', 'g', '.']\n",
      "\n",
      "\n",
      "♪♪ Playing random pattern:\n",
      "['c', 't', 'g', '.']\n",
      "\n",
      "\n",
      "♪♪ Playing random pattern:\n",
      "['h', 's', 's', 'g']\n",
      "\n",
      "\n",
      "♪♪ Playing random pattern:\n",
      "['h', 's', 's', 'g']\n"
     ]
    }
   ],
   "source": [
    "from vjpy.pattern_generator import PatternGenerator\n",
    "\n",
    "pg = PatternGenerator()\n",
    "\n",
    "for _ in range(8):\n",
    "    rp = pg.generate_random_pattern()\n",
    "    print(f\"\\n\\n♪♪ Playing random pattern:\\n{rp}\")\n",
    "    seq.play_pattern(rp)\n",
    "    print(f\"\\n\\n♪♪ Playing random pattern:\\n{rp}\")\n",
    "    seq.play_pattern(rp)"
   ]
  }
 ],
 "metadata": {
  "kernelspec": {
   "display_name": "Python 3 (ipykernel)",
   "language": "python",
   "name": "python3"
  },
  "language_info": {
   "codemirror_mode": {
    "name": "ipython",
    "version": 3
   },
   "file_extension": ".py",
   "mimetype": "text/x-python",
   "name": "python",
   "nbconvert_exporter": "python",
   "pygments_lexer": "ipython3",
   "version": "3.10.12"
  }
 },
 "nbformat": 4,
 "nbformat_minor": 5
}
