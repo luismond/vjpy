{
 "cells": [
  {
   "cell_type": "code",
   "execution_count": 3,
   "id": "5238f6e6-9ba2-4d1b-996f-edb93f597ed9",
   "metadata": {},
   "outputs": [
    {
     "name": "stdout",
     "output_type": "stream",
     "text": [
      "♪♪ playing a pattern:\n",
      "k.h.\n",
      "\n",
      "\n",
      "♪♪ playing a bar of patterns:\n",
      "['t.h.', 'chhh', 'thhh', 'chhh']\n",
      "\n",
      "\n",
      "♪♪ looping a bar:\n",
      "num=1 content=['t.h.', 'chhh', 'thhh', 'chhh']\n",
      "\n",
      "\n",
      "♪♪ looping a group of bars:\n",
      "num=1 content=['t.h.', 'chhh', 'thhh', 'chhh']\n",
      "num=2 content=['t.h.', 'chhh', 'thhh', 'cchh']\n",
      "num=3 content=['t.h.', 'chhh', 'thhh', 'chhh']\n",
      "num=4 content=['t.h.', 'chhh', 'ttvv', 'cccc']\n",
      "num=5 content=['t.h.', 'chhh', 'thhh', 'chhh']\n",
      "num=6 content=['t.h.', 'chhh', 'thhh', 'cchh']\n",
      "num=7 content=['t.h.', 'chhh', 'thhh', 'chhh']\n",
      "num=8 content=['t.h.', 'chhh', 'tttt', 'cccc']\n"
     ]
    }
   ],
   "source": [
    "from vjpy import MidiSequencer, Bar\n",
    "from vjpy.patterns import bar_, bars, pattern\n",
    "from pydantic import BaseModel\n",
    "from time import sleep\n",
    "\n",
    "seq = MidiSequencer(bpm=120)\n",
    "\n",
    "patt = pattern.pattern\n",
    "print(f\"♪♪ playing a pattern:\\n{patt}\\n\\n\")\n",
    "seq.play_pattern(pattern.pattern)\n",
    "sleep(2)\n",
    "\n",
    "print(f\"♪♪ playing a bar of patterns:\\n{bar_.content}\\n\\n\")\n",
    "for pattern in bar_.content:\n",
    "    seq.play_pattern(pattern)\n",
    "sleep(2)\n",
    "\n",
    "print(f\"♪♪ looping a bar:\\n{bars[0]}\\n\\n\")\n",
    "seq.loop_bar(bars[0], 4)\n",
    "sleep(2)\n",
    "\n",
    "print(\"♪♪ looping a group of bars:\")\n",
    "for bar in bars:\n",
    "    print(bar)\n",
    "seq.loop_bars(bars, 2)\n",
    "sleep(2)\n"
   ]
  }
 ],
 "metadata": {
  "kernelspec": {
   "display_name": "Python 3 (ipykernel)",
   "language": "python",
   "name": "python3"
  },
  "language_info": {
   "codemirror_mode": {
    "name": "ipython",
    "version": 3
   },
   "file_extension": ".py",
   "mimetype": "text/x-python",
   "name": "python",
   "nbconvert_exporter": "python",
   "pygments_lexer": "ipython3",
   "version": "3.10.6"
  }
 },
 "nbformat": 4,
 "nbformat_minor": 5
}
