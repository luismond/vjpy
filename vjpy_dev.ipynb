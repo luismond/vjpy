{
 "cells": [
  {
   "cell_type": "code",
   "execution_count": 1,
   "id": "5238f6e6-9ba2-4d1b-996f-edb93f597ed9",
   "metadata": {},
   "outputs": [],
   "source": [
    "from vjpy import MidiSequencer, Bar\n",
    "from pydantic import BaseModel\n",
    "\n",
    "seq = MidiSequencer(bpm=90)\n",
    "\n",
    "bars = [\n",
    "    Bar(num=1, content=['t.h.', 'chhh', 'thhh', 'chhh']),\n",
    "    Bar(num=2, content=['t.h.', 'chhh', 'thhh', 'cchh']),\n",
    "    Bar(num=3, content=['t.h.', 'chhh', 'thhh', 'chhh']),\n",
    "    Bar(num=4, content=['t.h.', 'chhh', 'thhh', 'cccc']),\n",
    "    Bar(num=5, content=['t.h.', 'chhh', 'thhh', 'chhh']),\n",
    "    Bar(num=6, content=['t.h.', 'chhh', 'thhh', 'cchh']),\n",
    "    Bar(num=7, content=['t.h.', 'chhh', 'thhh', 'chhh']),\n",
    "    Bar(num=8, content=['t.h.', 'chhh', 'tttt', 'cccc'])\n",
    "]\n",
    "           \n",
    "\n",
    "for bar in bars:\n",
    "    for pattern in bar.content:\n",
    "        seq.play_pattern(pattern)\n",
    "\n"
   ]
  }
 ],
 "metadata": {
  "kernelspec": {
   "display_name": "Python 3 (ipykernel)",
   "language": "python",
   "name": "python3"
  },
  "language_info": {
   "codemirror_mode": {
    "name": "ipython",
    "version": 3
   },
   "file_extension": ".py",
   "mimetype": "text/x-python",
   "name": "python",
   "nbconvert_exporter": "python",
   "pygments_lexer": "ipython3",
   "version": "3.10.6"
  }
 },
 "nbformat": 4,
 "nbformat_minor": 5
}
