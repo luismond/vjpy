{
 "cells": [
  {
   "cell_type": "code",
   "execution_count": null,
   "id": "5238f6e6-9ba2-4d1b-996f-edb93f597ed9",
   "metadata": {},
   "outputs": [
    {
     "name": "stdout",
     "output_type": "stream",
     "text": [
      "Sequencer instantiated. BPM: 120\n",
      "\n",
      "♪♪ Playing a pattern:\n",
      "k.h.\n",
      "\n",
      "\n",
      "♪♪ Playing a bar of patterns:\n",
      "['k.h.', 'chhh', 'khhh', 'chhh']\n",
      "\n",
      "\n",
      "♪♪ Looping a bar 4 times:\n",
      "num=1 patterns=['k.h.', 'chhh', 'khhh', 'chhh']\n",
      "num=1 patterns=['k.h.', 'chhh', 'khhh', 'chhh']\n",
      "num=1 patterns=['k.h.', 'chhh', 'khhh', 'chhh']\n",
      "num=1 patterns=['k.h.', 'chhh', 'khhh', 'chhh']\n"
     ]
    }
   ],
   "source": [
    "from vjpy import MidiSequencer, Bar\n",
    "from vjpy.patterns import bar_, bars, pattern\n",
    "from pydantic import BaseModel\n",
    "from time import sleep\n",
    "\n",
    "# Instantiate a sequencer device and set the bpm to 120\n",
    "bpm = 120\n",
    "seq = MidiSequencer(bpm=bpm)\n",
    "\n",
    "# Play a pattern\n",
    "patt = pattern.pattern\n",
    "print(f\"♪♪ Playing a pattern:\\n{patt}\")\n",
    "seq.play_pattern(pattern.pattern)\n",
    "sleep(1)\n",
    "\n",
    "# Play a bar of patterns\n",
    "print(f\"\\n\\n♪♪ Playing a bar of patterns:\\n{bar_.patterns}\")\n",
    "for pattern in bar_.patterns:\n",
    "    seq.play_pattern(pattern)\n",
    "sleep(1)\n",
    "\n",
    "# Loop a bar\n",
    "num_loops = 4\n",
    "print(f\"\\n\\n♪♪ Looping a bar {num_loops} times:\")\n",
    "seq.loop_bar(bars[0], num_loops)\n",
    "sleep(1)\n",
    "\n",
    "# Loop a sequence of bars\n",
    "print(\"\\n\\n♪♪ looping a sequence of bars:\")\n",
    "seq.loop_bars(bars, 2)\n",
    "sleep(1)\n"
   ]
  }
 ],
 "metadata": {
  "kernelspec": {
   "display_name": "Python 3 (ipykernel)",
   "language": "python",
   "name": "python3"
  },
  "language_info": {
   "codemirror_mode": {
    "name": "ipython",
    "version": 3
   },
   "file_extension": ".py",
   "mimetype": "text/x-python",
   "name": "python",
   "nbconvert_exporter": "python",
   "pygments_lexer": "ipython3",
   "version": "3.10.6"
  }
 },
 "nbformat": 4,
 "nbformat_minor": 5
}
