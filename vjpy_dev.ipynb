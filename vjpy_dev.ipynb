{
 "cells": [
  {
   "cell_type": "code",
   "execution_count": null,
   "id": "5238f6e6-9ba2-4d1b-996f-edb93f597ed9",
   "metadata": {},
   "outputs": [
    {
     "name": "stdout",
     "output_type": "stream",
     "text": [
      "playing pattern ♪\n",
      "playing bar ♪\n",
      "looping bar ♪\n",
      "playing bars ♪\n"
     ]
    }
   ],
   "source": [
    "from vjpy import MidiSequencer, Bar\n",
    "from vjpy.patterns import bar, bars, pattern\n",
    "from pydantic import BaseModel\n",
    "from time import sleep\n",
    "\n",
    "seq = MidiSequencer(bpm=120)\n",
    "\n",
    "print(\"playing pattern ♪\")\n",
    "seq.play_pattern(pattern.pattern)\n",
    "sleep(2)\n",
    "\n",
    "print(\"playing bar ♪\")\n",
    "for pattern in bar.content:\n",
    "    seq.play_pattern(pattern)\n",
    "sleep(2)\n",
    "\n",
    "print(\"looping bar ♪\")\n",
    "seq.loop_bar(bars[0], 4)\n",
    "sleep(2)\n",
    "\n",
    "print(\"playing bars ♪\")\n",
    "seq.loop_bars(bars, 2)\n",
    "sleep(2)\n"
   ]
  }
 ],
 "metadata": {
  "kernelspec": {
   "display_name": "Python 3 (ipykernel)",
   "language": "python",
   "name": "python3"
  },
  "language_info": {
   "codemirror_mode": {
    "name": "ipython",
    "version": 3
   },
   "file_extension": ".py",
   "mimetype": "text/x-python",
   "name": "python",
   "nbconvert_exporter": "python",
   "pygments_lexer": "ipython3",
   "version": "3.10.6"
  }
 },
 "nbformat": 4,
 "nbformat_minor": 5
}
